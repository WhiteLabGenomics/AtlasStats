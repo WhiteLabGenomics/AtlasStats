{
 "cells": [
  {
   "cell_type": "markdown",
   "metadata": {},
   "source": [
    "# Query CELLxGENE\n",
    "\n",
    "We want to retrieve the census general information and single-cell metadata to extract useful statistics.\n"
   ]
  },
  {
   "cell_type": "markdown",
   "metadata": {},
   "source": [
    "## Environment setup\n",
    "\n",
    "We need to import the packages and functions that we are going to use.\n"
   ]
  },
  {
   "cell_type": "code",
   "execution_count": 1,
   "metadata": {},
   "outputs": [],
   "source": [
    "import cellxgene_census\n",
    "import os\n",
    "import pyarrow.dataset as ds\n",
    "import session_info\n",
    "import sys\n",
    "import tiledbsoma\n",
    "\n",
    "from datetime import date"
   ]
  },
  {
   "cell_type": "code",
   "execution_count": 2,
   "metadata": {},
   "outputs": [],
   "source": [
    "# Make sure the module can be found\n",
    "module_path = os.path.abspath(os.path.join(\"..\"))\n",
    "if module_path not in sys.path:\n",
    "    sys.path.append(module_path)\n",
    "\n",
    "# Import the function that will combine the parquet files from utils.py\n",
    "from src.utils import combine_parquet"
   ]
  },
  {
   "cell_type": "markdown",
   "metadata": {},
   "source": [
    "We also want to setup the output directory.\n"
   ]
  },
  {
   "cell_type": "code",
   "execution_count": 3,
   "metadata": {},
   "outputs": [],
   "source": [
    "## Force execution\n",
    "force_execution = False\n",
    "## Set census release into format YYYY-MM-DD\n",
    "census_version = \"2023-12-15\"\n",
    "## Set output directory\n",
    "output_dir = \"../data/\" + census_version + \"/\"\n",
    "## Create output directory\n",
    "if force_execution or (not os.path.exists(path=output_dir)):\n",
    "    os.makedirs(name=output_dir, exist_ok=True)\n",
    "## Set subfolder to store chunks\n",
    "chunk_dir = output_dir + \"sc_metadata_chunks/\"\n",
    "## Create the directory\n",
    "if force_execution or (not os.path.exists(path=chunk_dir)):\n",
    "    os.makedirs(name=chunk_dir, exist_ok=True)"
   ]
  },
  {
   "cell_type": "markdown",
   "metadata": {},
   "source": [
    "## Querying and reading Census metadata\n"
   ]
  },
  {
   "cell_type": "markdown",
   "metadata": {},
   "source": [
    "### 1. Open a connection\n",
    "\n",
    "The first step is to open a connection. We can do it by using the `?open_soma` function from the [cellxgene.census](https://github.com/chanzuckerberg/cellxgene-census/tree/main/api/r/cellxgene.census) R package.\n"
   ]
  },
  {
   "cell_type": "code",
   "execution_count": 4,
   "metadata": {},
   "outputs": [],
   "source": [
    "## Open a specific version of the Census\n",
    "census = cellxgene_census.open_soma(census_version=census_version)"
   ]
  },
  {
   "cell_type": "markdown",
   "metadata": {},
   "source": [
    "### 2. Retrieve the information\n",
    "\n",
    "At this point, we can use TileDB-SOMA operations to retrieve the information we need.\n",
    "\n",
    "We are mainly interested in two things:\n",
    "\n",
    "1. The information from the `\"census_info\"` item. It contains tables as `SOMADataFrame` providing information of the census as a whole.\n",
    "2. The cell metadata, contained in the `\"obs\"` `SOMADataFrame` of the `\"census_data\"` item.\n"
   ]
  },
  {
   "cell_type": "markdown",
   "metadata": {},
   "source": [
    "#### 2.1 Get Census summary information\n",
    "\n",
    "First, let's retrieve the Census summary information:\n"
   ]
  },
  {
   "cell_type": "code",
   "execution_count": 5,
   "metadata": {},
   "outputs": [],
   "source": [
    "census_info = census[\"census_info\"]"
   ]
  },
  {
   "cell_type": "markdown",
   "metadata": {},
   "source": [
    "Then, we retrieve the three tables containing the information on the summary as a whole:\n",
    "\n",
    "- `\"summary\"`: high-level information of this Census, e.g. build date, total cell count, etc.\n",
    "- `\"datasets\"`: A table with all datasets from CELLxGENE Discover used to create the Census.\n",
    "- `\"summary_cell_counts\"`: Cell counts stratified by relevant cell metadata.\n"
   ]
  },
  {
   "cell_type": "code",
   "execution_count": 6,
   "metadata": {},
   "outputs": [],
   "source": [
    "# Get the summary\n",
    "census_info_summary = census_info[\"summary\"]  # Returns a SOMADataFrame\n",
    "# Get the summary\n",
    "census_info_datasets = census_info[\"datasets\"]  # Returns a SOMADataFrame\n",
    "# Get the summary\n",
    "census_info_summary_cell_counts = census_info[\n",
    "    \"summary_cell_counts\"\n",
    "]  # Returns a SOMADataFrame"
   ]
  },
  {
   "cell_type": "markdown",
   "metadata": {},
   "source": [
    "All read operations must be performed using the `.read()` method which returns a [TableReadIter]().\n"
   ]
  },
  {
   "cell_type": "code",
   "execution_count": 7,
   "metadata": {},
   "outputs": [
    {
     "data": {
      "text/plain": [
       "<tiledbsoma._read_iters.TableReadIter at 0x106a554d0>"
      ]
     },
     "execution_count": 7,
     "metadata": {},
     "output_type": "execute_result"
    }
   ],
   "source": [
    "# Read as an iterator of Arrow Tables\n",
    "census_info_summary = census_info_summary.read()\n",
    "census_info_datasets = census_info_datasets.read()\n",
    "census_info_summary_cell_counts = census_info_summary_cell_counts.read()\n",
    "\n",
    "# Print\n",
    "census_info_summary"
   ]
  },
  {
   "cell_type": "markdown",
   "metadata": {},
   "source": [
    "We can use `.concat()` to retrieve all metadata at once and obtain a [PyArrow.Table](https://arrow.apache.org/docs/python/generated/pyarrow.Table.html).\n"
   ]
  },
  {
   "cell_type": "code",
   "execution_count": 8,
   "metadata": {},
   "outputs": [
    {
     "data": {
      "text/plain": [
       "pyarrow.Table\n",
       "soma_joinid: int64\n",
       "label: large_string\n",
       "value: large_string\n",
       "----\n",
       "soma_joinid: [[0,1,2,3,4,5,6]]\n",
       "label: [[\"census_schema_version\",\"census_build_date\",\"dataset_schema_version\",\"total_cell_count\",\"unique_cell_count\",\"number_donors_homo_sapiens\",\"number_donors_mus_musculus\"]]\n",
       "value: [[\"1.2.0\",\"2023-10-23\",\"3.1.0\",\"68683222\",\"40356133\",\"15588\",\"1990\"]]"
      ]
     },
     "execution_count": 8,
     "metadata": {},
     "output_type": "execute_result"
    }
   ],
   "source": [
    "# Retrieve all metadata at once\n",
    "census_info_summary = census_info_summary.concat()\n",
    "census_info_datasets = census_info_datasets.concat()\n",
    "census_info_summary_cell_counts = census_info_summary_cell_counts.concat()\n",
    "\n",
    "# Print\n",
    "census_info_summary"
   ]
  },
  {
   "cell_type": "markdown",
   "metadata": {},
   "source": [
    "We can convert the `DataFrame` to a different format, like a [Pandas DataFrame](https://pandas.pydata.org/docs/reference/api/pandas.DataFrame.html).\n"
   ]
  },
  {
   "cell_type": "code",
   "execution_count": 34,
   "metadata": {},
   "outputs": [],
   "source": [
    "# Transform to Pandas DataFrame\n",
    "census_info_summary = census_info_summary.to_pandas()\n",
    "census_info_datasets = census_info_datasets.to_pandas()\n",
    "census_info_summary_cell_counts = census_info_summary_cell_counts.to_pandas()"
   ]
  },
  {
   "cell_type": "code",
   "execution_count": 21,
   "metadata": {},
   "outputs": [
    {
     "data": {
      "text/html": [
       "<div>\n",
       "<style scoped>\n",
       "    .dataframe tbody tr th:only-of-type {\n",
       "        vertical-align: middle;\n",
       "    }\n",
       "\n",
       "    .dataframe tbody tr th {\n",
       "        vertical-align: top;\n",
       "    }\n",
       "\n",
       "    .dataframe thead th {\n",
       "        text-align: right;\n",
       "    }\n",
       "</style>\n",
       "<table border=\"1\" class=\"dataframe\">\n",
       "  <thead>\n",
       "    <tr style=\"text-align: right;\">\n",
       "      <th></th>\n",
       "      <th>soma_joinid</th>\n",
       "      <th>label</th>\n",
       "      <th>value</th>\n",
       "    </tr>\n",
       "  </thead>\n",
       "  <tbody>\n",
       "    <tr>\n",
       "      <th>0</th>\n",
       "      <td>0</td>\n",
       "      <td>census_schema_version</td>\n",
       "      <td>1.2.0</td>\n",
       "    </tr>\n",
       "    <tr>\n",
       "      <th>1</th>\n",
       "      <td>1</td>\n",
       "      <td>census_build_date</td>\n",
       "      <td>2023-10-23</td>\n",
       "    </tr>\n",
       "    <tr>\n",
       "      <th>2</th>\n",
       "      <td>2</td>\n",
       "      <td>dataset_schema_version</td>\n",
       "      <td>3.1.0</td>\n",
       "    </tr>\n",
       "    <tr>\n",
       "      <th>3</th>\n",
       "      <td>3</td>\n",
       "      <td>total_cell_count</td>\n",
       "      <td>68683222</td>\n",
       "    </tr>\n",
       "    <tr>\n",
       "      <th>4</th>\n",
       "      <td>4</td>\n",
       "      <td>unique_cell_count</td>\n",
       "      <td>40356133</td>\n",
       "    </tr>\n",
       "    <tr>\n",
       "      <th>5</th>\n",
       "      <td>5</td>\n",
       "      <td>number_donors_homo_sapiens</td>\n",
       "      <td>15588</td>\n",
       "    </tr>\n",
       "    <tr>\n",
       "      <th>6</th>\n",
       "      <td>6</td>\n",
       "      <td>number_donors_mus_musculus</td>\n",
       "      <td>1990</td>\n",
       "    </tr>\n",
       "  </tbody>\n",
       "</table>\n",
       "</div>"
      ],
      "text/plain": [
       "   soma_joinid                       label       value\n",
       "0            0       census_schema_version       1.2.0\n",
       "1            1           census_build_date  2023-10-23\n",
       "2            2      dataset_schema_version       3.1.0\n",
       "3            3            total_cell_count    68683222\n",
       "4            4           unique_cell_count    40356133\n",
       "5            5  number_donors_homo_sapiens       15588\n",
       "6            6  number_donors_mus_musculus        1990"
      ]
     },
     "execution_count": 21,
     "metadata": {},
     "output_type": "execute_result"
    }
   ],
   "source": [
    "census_info_summary"
   ]
  },
  {
   "cell_type": "code",
   "execution_count": 22,
   "metadata": {},
   "outputs": [
    {
     "data": {
      "text/html": [
       "<div>\n",
       "<style scoped>\n",
       "    .dataframe tbody tr th:only-of-type {\n",
       "        vertical-align: middle;\n",
       "    }\n",
       "\n",
       "    .dataframe tbody tr th {\n",
       "        vertical-align: top;\n",
       "    }\n",
       "\n",
       "    .dataframe thead th {\n",
       "        text-align: right;\n",
       "    }\n",
       "</style>\n",
       "<table border=\"1\" class=\"dataframe\">\n",
       "  <thead>\n",
       "    <tr style=\"text-align: right;\">\n",
       "      <th></th>\n",
       "      <th>soma_joinid</th>\n",
       "      <th>collection_id</th>\n",
       "      <th>collection_name</th>\n",
       "      <th>collection_doi</th>\n",
       "      <th>dataset_id</th>\n",
       "      <th>dataset_version_id</th>\n",
       "      <th>dataset_title</th>\n",
       "      <th>dataset_h5ad_path</th>\n",
       "      <th>dataset_total_cell_count</th>\n",
       "    </tr>\n",
       "  </thead>\n",
       "  <tbody>\n",
       "    <tr>\n",
       "      <th>0</th>\n",
       "      <td>0</td>\n",
       "      <td>4dca242c-d302-4dba-a68f-4c61e7bad553</td>\n",
       "      <td>Comparative transcriptomics reveals human-spec...</td>\n",
       "      <td>10.1126/science.ade9516</td>\n",
       "      <td>2bdd3a2c-2ff4-4314-adf3-8a06b797a33a</td>\n",
       "      <td>7eb7f2fd-fd74-4c99-863c-97836415652e</td>\n",
       "      <td>Human: Great apes study</td>\n",
       "      <td>2bdd3a2c-2ff4-4314-adf3-8a06b797a33a.h5ad</td>\n",
       "      <td>156285</td>\n",
       "    </tr>\n",
       "    <tr>\n",
       "      <th>1</th>\n",
       "      <td>1</td>\n",
       "      <td>d17249d2-0e6e-4500-abb8-e6c93fa1ac6f</td>\n",
       "      <td>Transcriptomic cytoarchitecture reveals princi...</td>\n",
       "      <td>10.1126/science.adf6812</td>\n",
       "      <td>f5b0810c-1664-4a62-ad06-be1d9964aa8b</td>\n",
       "      <td>d4427196-7876-4bdd-a929-ae4d177ec776</td>\n",
       "      <td>Dissection: Angular gyrus (AnG)</td>\n",
       "      <td>f5b0810c-1664-4a62-ad06-be1d9964aa8b.h5ad</td>\n",
       "      <td>110752</td>\n",
       "    </tr>\n",
       "    <tr>\n",
       "      <th>2</th>\n",
       "      <td>2</td>\n",
       "      <td>d17249d2-0e6e-4500-abb8-e6c93fa1ac6f</td>\n",
       "      <td>Transcriptomic cytoarchitecture reveals princi...</td>\n",
       "      <td>10.1126/science.adf6812</td>\n",
       "      <td>e4ddac12-f48f-4455-8e8d-c2a48a683437</td>\n",
       "      <td>3280113b-7148-4a3e-98d4-015f443aab8a</td>\n",
       "      <td>Supercluster: CGE-derived interneurons</td>\n",
       "      <td>e4ddac12-f48f-4455-8e8d-c2a48a683437.h5ad</td>\n",
       "      <td>129495</td>\n",
       "    </tr>\n",
       "    <tr>\n",
       "      <th>3</th>\n",
       "      <td>3</td>\n",
       "      <td>d17249d2-0e6e-4500-abb8-e6c93fa1ac6f</td>\n",
       "      <td>Transcriptomic cytoarchitecture reveals princi...</td>\n",
       "      <td>10.1126/science.adf6812</td>\n",
       "      <td>e2808a6e-e2ea-41b9-b38c-4a08f1677f02</td>\n",
       "      <td>dc092185-3b8e-4fcb-ae21-1dc106d683ac</td>\n",
       "      <td>Dissection: Primary auditory cortex(A1)</td>\n",
       "      <td>e2808a6e-e2ea-41b9-b38c-4a08f1677f02.h5ad</td>\n",
       "      <td>139054</td>\n",
       "    </tr>\n",
       "    <tr>\n",
       "      <th>4</th>\n",
       "      <td>4</td>\n",
       "      <td>d17249d2-0e6e-4500-abb8-e6c93fa1ac6f</td>\n",
       "      <td>Transcriptomic cytoarchitecture reveals princi...</td>\n",
       "      <td>10.1126/science.adf6812</td>\n",
       "      <td>d01c9dff-abd1-4825-bf30-2eb2ba74597e</td>\n",
       "      <td>c4959ded-83dc-4442-aac7-9a59bdb47801</td>\n",
       "      <td>Supercluster: Deep layer (non-IT) excitatory n...</td>\n",
       "      <td>d01c9dff-abd1-4825-bf30-2eb2ba74597e.h5ad</td>\n",
       "      <td>92969</td>\n",
       "    </tr>\n",
       "    <tr>\n",
       "      <th>...</th>\n",
       "      <td>...</td>\n",
       "      <td>...</td>\n",
       "      <td>...</td>\n",
       "      <td>...</td>\n",
       "      <td>...</td>\n",
       "      <td>...</td>\n",
       "      <td>...</td>\n",
       "      <td>...</td>\n",
       "      <td>...</td>\n",
       "    </tr>\n",
       "    <tr>\n",
       "      <th>646</th>\n",
       "      <td>646</td>\n",
       "      <td>180bff9c-c8a5-4539-b13b-ddbc00d643e6</td>\n",
       "      <td>Molecular characterization of selectively vuln...</td>\n",
       "      <td>10.1038/s41593-020-00764-7</td>\n",
       "      <td>f9ad5649-f372-43e1-a3a8-423383e5a8a2</td>\n",
       "      <td>0912e658-ccd7-43e9-8d81-4349432115f9</td>\n",
       "      <td>Molecular characterization of selectively vuln...</td>\n",
       "      <td>f9ad5649-f372-43e1-a3a8-423383e5a8a2.h5ad</td>\n",
       "      <td>8168</td>\n",
       "    </tr>\n",
       "    <tr>\n",
       "      <th>647</th>\n",
       "      <td>647</td>\n",
       "      <td>a72afd53-ab92-4511-88da-252fb0e26b9a</td>\n",
       "      <td>Single-cell atlas of peripheral immune respons...</td>\n",
       "      <td>10.1038/s41591-020-0944-y</td>\n",
       "      <td>456e8b9b-f872-488b-871d-94534090a865</td>\n",
       "      <td>fcc85817-ef31-4056-9a96-b3730ccec522</td>\n",
       "      <td>Single-cell atlas of peripheral immune respons...</td>\n",
       "      <td>456e8b9b-f872-488b-871d-94534090a865.h5ad</td>\n",
       "      <td>44721</td>\n",
       "    </tr>\n",
       "    <tr>\n",
       "      <th>648</th>\n",
       "      <td>648</td>\n",
       "      <td>38833785-fac5-48fd-944a-0f62a4c23ed1</td>\n",
       "      <td>Construction of a human cell landscape at sing...</td>\n",
       "      <td>10.1038/s41586-020-2157-4</td>\n",
       "      <td>2adb1f8a-a6b1-4909-8ee8-484814e2d4bf</td>\n",
       "      <td>998d8dbd-2f42-4611-9973-2da95db46c29</td>\n",
       "      <td>Construction of a human cell landscape at sing...</td>\n",
       "      <td>2adb1f8a-a6b1-4909-8ee8-484814e2d4bf.h5ad</td>\n",
       "      <td>598266</td>\n",
       "    </tr>\n",
       "    <tr>\n",
       "      <th>649</th>\n",
       "      <td>649</td>\n",
       "      <td>5d445965-6f1a-4b68-ba3a-b8f765155d3a</td>\n",
       "      <td>A molecular cell atlas of the human lung from ...</td>\n",
       "      <td>10.1038/s41586-020-2922-4</td>\n",
       "      <td>e04daea4-4412-45b5-989e-76a9be070a89</td>\n",
       "      <td>d54c8b65-3e6c-4265-98aa-5f082a5f3816</td>\n",
       "      <td>Krasnow Lab Human Lung Cell Atlas, Smart-seq2</td>\n",
       "      <td>e04daea4-4412-45b5-989e-76a9be070a89.h5ad</td>\n",
       "      <td>9409</td>\n",
       "    </tr>\n",
       "    <tr>\n",
       "      <th>650</th>\n",
       "      <td>650</td>\n",
       "      <td>5d445965-6f1a-4b68-ba3a-b8f765155d3a</td>\n",
       "      <td>A molecular cell atlas of the human lung from ...</td>\n",
       "      <td>10.1038/s41586-020-2922-4</td>\n",
       "      <td>8c42cfd0-0b0a-46d5-910c-fc833d83c45e</td>\n",
       "      <td>76cf83ad-a3d6-45a7-ab58-b694a1ab0133</td>\n",
       "      <td>Krasnow Lab Human Lung Cell Atlas, 10X</td>\n",
       "      <td>8c42cfd0-0b0a-46d5-910c-fc833d83c45e.h5ad</td>\n",
       "      <td>65662</td>\n",
       "    </tr>\n",
       "  </tbody>\n",
       "</table>\n",
       "<p>651 rows × 9 columns</p>\n",
       "</div>"
      ],
      "text/plain": [
       "     soma_joinid                         collection_id  \\\n",
       "0              0  4dca242c-d302-4dba-a68f-4c61e7bad553   \n",
       "1              1  d17249d2-0e6e-4500-abb8-e6c93fa1ac6f   \n",
       "2              2  d17249d2-0e6e-4500-abb8-e6c93fa1ac6f   \n",
       "3              3  d17249d2-0e6e-4500-abb8-e6c93fa1ac6f   \n",
       "4              4  d17249d2-0e6e-4500-abb8-e6c93fa1ac6f   \n",
       "..           ...                                   ...   \n",
       "646          646  180bff9c-c8a5-4539-b13b-ddbc00d643e6   \n",
       "647          647  a72afd53-ab92-4511-88da-252fb0e26b9a   \n",
       "648          648  38833785-fac5-48fd-944a-0f62a4c23ed1   \n",
       "649          649  5d445965-6f1a-4b68-ba3a-b8f765155d3a   \n",
       "650          650  5d445965-6f1a-4b68-ba3a-b8f765155d3a   \n",
       "\n",
       "                                       collection_name  \\\n",
       "0    Comparative transcriptomics reveals human-spec...   \n",
       "1    Transcriptomic cytoarchitecture reveals princi...   \n",
       "2    Transcriptomic cytoarchitecture reveals princi...   \n",
       "3    Transcriptomic cytoarchitecture reveals princi...   \n",
       "4    Transcriptomic cytoarchitecture reveals princi...   \n",
       "..                                                 ...   \n",
       "646  Molecular characterization of selectively vuln...   \n",
       "647  Single-cell atlas of peripheral immune respons...   \n",
       "648  Construction of a human cell landscape at sing...   \n",
       "649  A molecular cell atlas of the human lung from ...   \n",
       "650  A molecular cell atlas of the human lung from ...   \n",
       "\n",
       "                 collection_doi                            dataset_id  \\\n",
       "0       10.1126/science.ade9516  2bdd3a2c-2ff4-4314-adf3-8a06b797a33a   \n",
       "1       10.1126/science.adf6812  f5b0810c-1664-4a62-ad06-be1d9964aa8b   \n",
       "2       10.1126/science.adf6812  e4ddac12-f48f-4455-8e8d-c2a48a683437   \n",
       "3       10.1126/science.adf6812  e2808a6e-e2ea-41b9-b38c-4a08f1677f02   \n",
       "4       10.1126/science.adf6812  d01c9dff-abd1-4825-bf30-2eb2ba74597e   \n",
       "..                          ...                                   ...   \n",
       "646  10.1038/s41593-020-00764-7  f9ad5649-f372-43e1-a3a8-423383e5a8a2   \n",
       "647   10.1038/s41591-020-0944-y  456e8b9b-f872-488b-871d-94534090a865   \n",
       "648   10.1038/s41586-020-2157-4  2adb1f8a-a6b1-4909-8ee8-484814e2d4bf   \n",
       "649   10.1038/s41586-020-2922-4  e04daea4-4412-45b5-989e-76a9be070a89   \n",
       "650   10.1038/s41586-020-2922-4  8c42cfd0-0b0a-46d5-910c-fc833d83c45e   \n",
       "\n",
       "                       dataset_version_id  \\\n",
       "0    7eb7f2fd-fd74-4c99-863c-97836415652e   \n",
       "1    d4427196-7876-4bdd-a929-ae4d177ec776   \n",
       "2    3280113b-7148-4a3e-98d4-015f443aab8a   \n",
       "3    dc092185-3b8e-4fcb-ae21-1dc106d683ac   \n",
       "4    c4959ded-83dc-4442-aac7-9a59bdb47801   \n",
       "..                                    ...   \n",
       "646  0912e658-ccd7-43e9-8d81-4349432115f9   \n",
       "647  fcc85817-ef31-4056-9a96-b3730ccec522   \n",
       "648  998d8dbd-2f42-4611-9973-2da95db46c29   \n",
       "649  d54c8b65-3e6c-4265-98aa-5f082a5f3816   \n",
       "650  76cf83ad-a3d6-45a7-ab58-b694a1ab0133   \n",
       "\n",
       "                                         dataset_title  \\\n",
       "0                              Human: Great apes study   \n",
       "1                      Dissection: Angular gyrus (AnG)   \n",
       "2               Supercluster: CGE-derived interneurons   \n",
       "3              Dissection: Primary auditory cortex(A1)   \n",
       "4    Supercluster: Deep layer (non-IT) excitatory n...   \n",
       "..                                                 ...   \n",
       "646  Molecular characterization of selectively vuln...   \n",
       "647  Single-cell atlas of peripheral immune respons...   \n",
       "648  Construction of a human cell landscape at sing...   \n",
       "649      Krasnow Lab Human Lung Cell Atlas, Smart-seq2   \n",
       "650             Krasnow Lab Human Lung Cell Atlas, 10X   \n",
       "\n",
       "                             dataset_h5ad_path  dataset_total_cell_count  \n",
       "0    2bdd3a2c-2ff4-4314-adf3-8a06b797a33a.h5ad                    156285  \n",
       "1    f5b0810c-1664-4a62-ad06-be1d9964aa8b.h5ad                    110752  \n",
       "2    e4ddac12-f48f-4455-8e8d-c2a48a683437.h5ad                    129495  \n",
       "3    e2808a6e-e2ea-41b9-b38c-4a08f1677f02.h5ad                    139054  \n",
       "4    d01c9dff-abd1-4825-bf30-2eb2ba74597e.h5ad                     92969  \n",
       "..                                         ...                       ...  \n",
       "646  f9ad5649-f372-43e1-a3a8-423383e5a8a2.h5ad                      8168  \n",
       "647  456e8b9b-f872-488b-871d-94534090a865.h5ad                     44721  \n",
       "648  2adb1f8a-a6b1-4909-8ee8-484814e2d4bf.h5ad                    598266  \n",
       "649  e04daea4-4412-45b5-989e-76a9be070a89.h5ad                      9409  \n",
       "650  8c42cfd0-0b0a-46d5-910c-fc833d83c45e.h5ad                     65662  \n",
       "\n",
       "[651 rows x 9 columns]"
      ]
     },
     "execution_count": 22,
     "metadata": {},
     "output_type": "execute_result"
    }
   ],
   "source": [
    "census_info_datasets"
   ]
  },
  {
   "cell_type": "code",
   "execution_count": 23,
   "metadata": {},
   "outputs": [
    {
     "data": {
      "text/html": [
       "<div>\n",
       "<style scoped>\n",
       "    .dataframe tbody tr th:only-of-type {\n",
       "        vertical-align: middle;\n",
       "    }\n",
       "\n",
       "    .dataframe tbody tr th {\n",
       "        vertical-align: top;\n",
       "    }\n",
       "\n",
       "    .dataframe thead th {\n",
       "        text-align: right;\n",
       "    }\n",
       "</style>\n",
       "<table border=\"1\" class=\"dataframe\">\n",
       "  <thead>\n",
       "    <tr style=\"text-align: right;\">\n",
       "      <th></th>\n",
       "      <th>soma_joinid</th>\n",
       "      <th>organism</th>\n",
       "      <th>category</th>\n",
       "      <th>ontology_term_id</th>\n",
       "      <th>unique_cell_count</th>\n",
       "      <th>total_cell_count</th>\n",
       "      <th>label</th>\n",
       "    </tr>\n",
       "  </thead>\n",
       "  <tbody>\n",
       "    <tr>\n",
       "      <th>0</th>\n",
       "      <td>0</td>\n",
       "      <td>Homo sapiens</td>\n",
       "      <td>all</td>\n",
       "      <td>na</td>\n",
       "      <td>36227903</td>\n",
       "      <td>62998417</td>\n",
       "      <td>na</td>\n",
       "    </tr>\n",
       "    <tr>\n",
       "      <th>1</th>\n",
       "      <td>1</td>\n",
       "      <td>Homo sapiens</td>\n",
       "      <td>assay</td>\n",
       "      <td>EFO:0008722</td>\n",
       "      <td>264166</td>\n",
       "      <td>279635</td>\n",
       "      <td>Drop-seq</td>\n",
       "    </tr>\n",
       "    <tr>\n",
       "      <th>2</th>\n",
       "      <td>2</td>\n",
       "      <td>Homo sapiens</td>\n",
       "      <td>assay</td>\n",
       "      <td>EFO:0008780</td>\n",
       "      <td>25652</td>\n",
       "      <td>51304</td>\n",
       "      <td>inDrop</td>\n",
       "    </tr>\n",
       "    <tr>\n",
       "      <th>3</th>\n",
       "      <td>3</td>\n",
       "      <td>Homo sapiens</td>\n",
       "      <td>assay</td>\n",
       "      <td>EFO:0008796</td>\n",
       "      <td>54753</td>\n",
       "      <td>54753</td>\n",
       "      <td>MARS-seq</td>\n",
       "    </tr>\n",
       "    <tr>\n",
       "      <th>4</th>\n",
       "      <td>4</td>\n",
       "      <td>Homo sapiens</td>\n",
       "      <td>assay</td>\n",
       "      <td>EFO:0008919</td>\n",
       "      <td>89477</td>\n",
       "      <td>206754</td>\n",
       "      <td>Seq-Well</td>\n",
       "    </tr>\n",
       "    <tr>\n",
       "      <th>...</th>\n",
       "      <td>...</td>\n",
       "      <td>...</td>\n",
       "      <td>...</td>\n",
       "      <td>...</td>\n",
       "      <td>...</td>\n",
       "      <td>...</td>\n",
       "      <td>...</td>\n",
       "    </tr>\n",
       "    <tr>\n",
       "      <th>1406</th>\n",
       "      <td>1406</td>\n",
       "      <td>Mus musculus</td>\n",
       "      <td>tissue_general</td>\n",
       "      <td>UBERON:0002113</td>\n",
       "      <td>179684</td>\n",
       "      <td>231804</td>\n",
       "      <td>kidney</td>\n",
       "    </tr>\n",
       "    <tr>\n",
       "      <th>1407</th>\n",
       "      <td>1407</td>\n",
       "      <td>Mus musculus</td>\n",
       "      <td>tissue_general</td>\n",
       "      <td>UBERON:0002365</td>\n",
       "      <td>15577</td>\n",
       "      <td>46731</td>\n",
       "      <td>exocrine gland</td>\n",
       "    </tr>\n",
       "    <tr>\n",
       "      <th>1408</th>\n",
       "      <td>1408</td>\n",
       "      <td>Mus musculus</td>\n",
       "      <td>tissue_general</td>\n",
       "      <td>UBERON:0002367</td>\n",
       "      <td>37715</td>\n",
       "      <td>130135</td>\n",
       "      <td>prostate gland</td>\n",
       "    </tr>\n",
       "    <tr>\n",
       "      <th>1409</th>\n",
       "      <td>1409</td>\n",
       "      <td>Mus musculus</td>\n",
       "      <td>tissue_general</td>\n",
       "      <td>UBERON:0002368</td>\n",
       "      <td>13322</td>\n",
       "      <td>39966</td>\n",
       "      <td>endocrine gland</td>\n",
       "    </tr>\n",
       "    <tr>\n",
       "      <th>1410</th>\n",
       "      <td>1410</td>\n",
       "      <td>Mus musculus</td>\n",
       "      <td>tissue_general</td>\n",
       "      <td>UBERON:0002371</td>\n",
       "      <td>90225</td>\n",
       "      <td>199699</td>\n",
       "      <td>bone marrow</td>\n",
       "    </tr>\n",
       "  </tbody>\n",
       "</table>\n",
       "<p>1411 rows × 7 columns</p>\n",
       "</div>"
      ],
      "text/plain": [
       "      soma_joinid      organism        category ontology_term_id  \\\n",
       "0               0  Homo sapiens             all               na   \n",
       "1               1  Homo sapiens           assay      EFO:0008722   \n",
       "2               2  Homo sapiens           assay      EFO:0008780   \n",
       "3               3  Homo sapiens           assay      EFO:0008796   \n",
       "4               4  Homo sapiens           assay      EFO:0008919   \n",
       "...           ...           ...             ...              ...   \n",
       "1406         1406  Mus musculus  tissue_general   UBERON:0002113   \n",
       "1407         1407  Mus musculus  tissue_general   UBERON:0002365   \n",
       "1408         1408  Mus musculus  tissue_general   UBERON:0002367   \n",
       "1409         1409  Mus musculus  tissue_general   UBERON:0002368   \n",
       "1410         1410  Mus musculus  tissue_general   UBERON:0002371   \n",
       "\n",
       "      unique_cell_count  total_cell_count            label  \n",
       "0              36227903          62998417               na  \n",
       "1                264166            279635         Drop-seq  \n",
       "2                 25652             51304           inDrop  \n",
       "3                 54753             54753         MARS-seq  \n",
       "4                 89477            206754         Seq-Well  \n",
       "...                 ...               ...              ...  \n",
       "1406             179684            231804           kidney  \n",
       "1407              15577             46731   exocrine gland  \n",
       "1408              37715            130135   prostate gland  \n",
       "1409              13322             39966  endocrine gland  \n",
       "1410              90225            199699      bone marrow  \n",
       "\n",
       "[1411 rows x 7 columns]"
      ]
     },
     "execution_count": 23,
     "metadata": {},
     "output_type": "execute_result"
    }
   ],
   "source": [
    "census_info_summary_cell_counts"
   ]
  },
  {
   "cell_type": "markdown",
   "metadata": {},
   "source": [
    "Finally, we store the data for future usage.\n"
   ]
  },
  {
   "cell_type": "code",
   "execution_count": 35,
   "metadata": {},
   "outputs": [],
   "source": [
    "## Save the data\n",
    "census_info_summary.to_csv(output_dir + \"census_info_summary.csv\", index=False)\n",
    "census_info_datasets.to_csv(output_dir + \"census_info_datasets.csv\", index=False)\n",
    "census_info_summary_cell_counts.to_csv(\n",
    "    output_dir + \"census_info_summary_cell_counts.csv\", index=False\n",
    ")"
   ]
  },
  {
   "cell_type": "markdown",
   "metadata": {},
   "source": [
    "#### 2.2 Get Census summary information\n",
    "\n",
    "Now we can retrieve the Census single-cell information.\n"
   ]
  },
  {
   "cell_type": "code",
   "execution_count": 9,
   "metadata": {},
   "outputs": [],
   "source": [
    "## Get the census data\n",
    "census_data = census[\"census_data\"]"
   ]
  },
  {
   "cell_type": "markdown",
   "metadata": {},
   "source": [
    "Then, we want to select the species:\n"
   ]
  },
  {
   "cell_type": "code",
   "execution_count": 10,
   "metadata": {},
   "outputs": [],
   "source": [
    "## Get census single-cell info for homo sapiens\n",
    "census_hsapiens_data = census_data[\"homo_sapiens\"]"
   ]
  },
  {
   "cell_type": "markdown",
   "metadata": {},
   "source": [
    "Now, we can select the cell metadata:\n"
   ]
  },
  {
   "cell_type": "code",
   "execution_count": 11,
   "metadata": {},
   "outputs": [
    {
     "data": {
      "text/plain": [
       "<DataFrame 's3://cellxgene-census-public-us-west-2/cell-census/2023-12-15/soma/census_data/homo_sapiens/obs' (open for 'r')>"
      ]
     },
     "execution_count": 11,
     "metadata": {},
     "output_type": "execute_result"
    }
   ],
   "source": [
    "## Get census single-cell metadata info for homo sapiens\n",
    "census_hsapiens_cell_metadata = census_hsapiens_data[\"obs\"]\n",
    "\n",
    "## Print\n",
    "census_hsapiens_cell_metadata"
   ]
  },
  {
   "cell_type": "markdown",
   "metadata": {},
   "source": [
    "Reading the data as we previously did could raise issues related to memory. To avoid this type of problem, we can read the data by chunk.\n"
   ]
  },
  {
   "cell_type": "code",
   "execution_count": 12,
   "metadata": {},
   "outputs": [
    {
     "data": {
      "text/plain": [
       "<tiledbsoma._read_iters.TableReadIter at 0x2b060f310>"
      ]
     },
     "execution_count": 12,
     "metadata": {},
     "output_type": "execute_result"
    }
   ],
   "source": [
    "## Read as an iterator of Arrow Tables\n",
    "census_hsapiens_cell_metadata = census_hsapiens_cell_metadata.read()\n",
    "\n",
    "## Print\n",
    "census_hsapiens_cell_metadata"
   ]
  },
  {
   "cell_type": "markdown",
   "metadata": {},
   "source": [
    "As we can see, the `read()` function returned a `TableReadIter` object. Looking at the [documentation](https://github.com/single-cell-data/TileDB-SOMA/blob/main/apis/python/src/tiledbsoma/_read_iters.py), we can see that it contains an `sr` element which is a `SOMAArray` object. We can use this to retrieve data in chunks.\n"
   ]
  },
  {
   "cell_type": "code",
   "execution_count": 38,
   "metadata": {},
   "outputs": [
    {
     "data": {
      "text/plain": [
       "<tiledbsoma.pytiledbsoma.SOMAArray at 0x106bb38f0>"
      ]
     },
     "execution_count": 38,
     "metadata": {},
     "output_type": "execute_result"
    }
   ],
   "source": [
    "## Get SOMAArray\n",
    "census_hsapiens_cell_metadata_somaarray = census_hsapiens_cell_metadata.sr\n",
    "\n",
    "## Print\n",
    "census_hsapiens_cell_metadata_somaarray"
   ]
  },
  {
   "cell_type": "markdown",
   "metadata": {},
   "source": [
    "Now we can retrieve the data in chunks using the `read_next()` function.\n"
   ]
  },
  {
   "cell_type": "code",
   "execution_count": 39,
   "metadata": {},
   "outputs": [],
   "source": [
    "## Init index variable\n",
    "i = 1\n",
    "## Read next chunk of data in memory\n",
    "census_hsapiens_cell_metadata_chunk = (\n",
    "    census_hsapiens_cell_metadata_somaarray.read_next()\n",
    ")\n",
    "## Continue until complete\n",
    "while census_hsapiens_cell_metadata_chunk is not None:\n",
    "    ## Convert to Pandas\n",
    "    census_hsapiens_cell_metadata_chunk = (\n",
    "        census_hsapiens_cell_metadata_chunk.to_pandas()\n",
    "    )\n",
    "    ## File name\n",
    "    fn = \"hsapiens_cell_metadata_chunk_\" + str(i)\n",
    "    ## File path\n",
    "    fp = chunk_dir + fn + \".parquet\"\n",
    "    ## Save as parquet file\n",
    "    census_hsapiens_cell_metadata_chunk.to_parquet(path=fp, index=False)\n",
    "    ## Print log\n",
    "    print(\"Saved chunk \" + str(i) + \" to \" + fp)\n",
    "    ## Update\n",
    "    i = i + 1\n",
    "    ## Read next chunk of data in memory\n",
    "    census_hsapiens_cell_metadata_chunk = (\n",
    "        census_hsapiens_cell_metadata_somaarray.read_next()\n",
    "    )"
   ]
  },
  {
   "cell_type": "markdown",
   "metadata": {},
   "source": [
    "We can merge the chunks in a single `.parquet` file for future usage. First, we can retrieve the paths to the chunk files using the [`pyarrow.dataset.dataset()`](https://arrow.apache.org/docs/python/generated/pyarrow.dataset.dataset.html#pyarrow-dataset-dataset) function:\n"
   ]
  },
  {
   "cell_type": "code",
   "execution_count": 5,
   "metadata": {},
   "outputs": [
    {
     "data": {
      "text/plain": [
       "<pyarrow._dataset.FileSystemDataset at 0x107b0c520>"
      ]
     },
     "execution_count": 5,
     "metadata": {},
     "output_type": "execute_result"
    }
   ],
   "source": [
    "## Retrieve all parquet files\n",
    "dataset = ds.dataset(chunk_dir, format=\"parquet\")\n",
    "## Print\n",
    "dataset"
   ]
  },
  {
   "cell_type": "markdown",
   "metadata": {},
   "source": [
    "We can print the file paths to make sure that all the files were found:\n"
   ]
  },
  {
   "cell_type": "code",
   "execution_count": 6,
   "metadata": {},
   "outputs": [
    {
     "data": {
      "text/plain": [
       "['../data/2023-12-15/sc_metadata_chunks/hsapiens_cell_metadata_1.parquet',\n",
       " '../data/2023-12-15/sc_metadata_chunks/hsapiens_cell_metadata_2.parquet',\n",
       " '../data/2023-12-15/sc_metadata_chunks/hsapiens_cell_metadata_3.parquet']"
      ]
     },
     "execution_count": 6,
     "metadata": {},
     "output_type": "execute_result"
    }
   ],
   "source": [
    "dataset.files"
   ]
  },
  {
   "cell_type": "markdown",
   "metadata": {},
   "source": [
    "Now we can combine the files into a unique `.parquet` file.\n",
    "\n",
    "We could use the common approach of converting the `FileSystemDataset` to a `pyarrow.Table` with `to_table()`, and then converting it to a Pandas object with `to_pandas()`, but these steps would load the data into memory and could create issues, most of all when the file size is big.\n",
    "\n",
    "We can instead take advantage of a function we wrote that uses `pyarrow.parquet` functionalities to read data in batch and write it to the Parquet file.\n"
   ]
  },
  {
   "cell_type": "code",
   "execution_count": 8,
   "metadata": {},
   "outputs": [],
   "source": [
    "## Save the data after loading the files in memory - DO NOT DO THIS\n",
    "# dataset.to_table().to_pandas().to_parquet(path=fp, index=False) # DO NOT DO THIS"
   ]
  },
  {
   "cell_type": "code",
   "execution_count": 8,
   "metadata": {},
   "outputs": [],
   "source": [
    "## File path\n",
    "fp = output_dir + \"hsapiens_cell_metadata.parquet\"\n",
    "## Combine all the chunks\n",
    "combine_parquet(input_files=dataset.files, output_file=fp)"
   ]
  },
  {
   "cell_type": "markdown",
   "metadata": {},
   "source": [
    "### 3. Close the Census\n",
    "\n",
    "Finally, we want to close the connection.\n"
   ]
  },
  {
   "cell_type": "code",
   "execution_count": null,
   "metadata": {},
   "outputs": [],
   "source": [
    "## Close the connection\n",
    "census.close()"
   ]
  },
  {
   "cell_type": "markdown",
   "metadata": {},
   "source": [
    "## Session info\n",
    "\n",
    "The version number of Python and packages loaded for generating the analysis.\n"
   ]
  },
  {
   "cell_type": "code",
   "execution_count": 3,
   "metadata": {},
   "outputs": [
    {
     "data": {
      "text/html": [
       "<details>\n",
       "<summary>Click to view session information</summary>\n",
       "<pre>\n",
       "-----\n",
       "cellxgene_census    1.7.0\n",
       "session_info        1.0.0\n",
       "-----\n",
       "</pre>\n",
       "<details>\n",
       "<summary>Click to view modules imported as dependencies</summary>\n",
       "<pre>\n",
       "OpenSSL             23.2.0\n",
       "aiobotocore         2.11.2\n",
       "aiohttp             3.8.5\n",
       "aioitertools        0.11.0\n",
       "aiosignal           1.3.1\n",
       "anndata             0.10.3\n",
       "appnope             0.1.3\n",
       "argcomplete         NA\n",
       "asttokens           NA\n",
       "async_timeout       4.0.2\n",
       "attr                23.2.0\n",
       "attrs               23.2.0\n",
       "botocore            1.34.34\n",
       "brotli              1.0.9\n",
       "certifi             2024.02.02\n",
       "chardet             5.2.0\n",
       "charset_normalizer  3.3.2\n",
       "comm                0.2.1\n",
       "cryptography        41.0.3\n",
       "cython_runtime      NA\n",
       "dateutil            2.8.2\n",
       "debugpy             1.8.0\n",
       "decorator           5.1.1\n",
       "entrypoints         0.4\n",
       "executing           2.0.1\n",
       "frozenlist          1.4.0\n",
       "fsspec              2024.2.0\n",
       "google              NA\n",
       "h5py                3.10.0\n",
       "idna                3.6\n",
       "ipykernel           6.29.0\n",
       "ipython_genutils    0.2.0\n",
       "ipywidgets          8.1.2\n",
       "jedi                0.19.1\n",
       "jmespath            1.0.1\n",
       "llvmlite            0.40.1\n",
       "multidict           6.0.2\n",
       "natsort             8.4.0\n",
       "numba               0.57.0\n",
       "numexpr             2.9.0\n",
       "numpy               1.24.4\n",
       "packaging           23.2\n",
       "pandas              2.2.0\n",
       "parso               0.8.3\n",
       "pexpect             4.9.0\n",
       "pkg_resources       NA\n",
       "platformdirs        4.2.0\n",
       "prompt_toolkit      3.0.43\n",
       "psutil              5.9.8\n",
       "ptyprocess          0.7.0\n",
       "pure_eval           0.2.2\n",
       "pyarrow             15.0.0\n",
       "pydev_ipython       NA\n",
       "pydevconsole        NA\n",
       "pydevd              2.9.5\n",
       "pydevd_file_utils   NA\n",
       "pydevd_plugins      NA\n",
       "pydevd_tracing      NA\n",
       "pygments            2.17.2\n",
       "pytz                2024.1\n",
       "requests            2.31.0\n",
       "s3fs                2024.2.0\n",
       "scipy               1.11.3\n",
       "setuptools_scm      NA\n",
       "six                 1.16.0\n",
       "socks               1.7.1\n",
       "somacore            1.0.4\n",
       "stack_data          0.6.3\n",
       "tiledb              0.22.3\n",
       "tiledbsoma          1.4.4\n",
       "torch               2.2.1\n",
       "torchgen            NA\n",
       "tornado             6.4\n",
       "tqdm                4.66.1\n",
       "traitlets           5.14.1\n",
       "typing_extensions   NA\n",
       "urllib3             2.2.0\n",
       "wcwidth             0.2.13\n",
       "wrapt               1.16.0\n",
       "yaml                6.0.1\n",
       "yarl                1.8.1\n",
       "zmq                 24.0.1\n",
       "</pre>\n",
       "</details> <!-- seems like this ends pre, so might as well be explicit -->\n",
       "<pre>\n",
       "-----\n",
       "IPython             8.20.0\n",
       "jupyter_client      7.4.9\n",
       "jupyter_core        5.7.1\n",
       "notebook            6.5.6\n",
       "-----\n",
       "Python 3.11.5 (main, Sep 11 2023, 08:31:25) [Clang 14.0.6 ]\n",
       "macOS-14.3.1-arm64-arm-64bit\n",
       "-----\n",
       "Session information updated at 2024-03-21 16:20\n",
       "</pre>\n",
       "</details>"
      ],
      "text/plain": [
       "<IPython.core.display.HTML object>"
      ]
     },
     "execution_count": 3,
     "metadata": {},
     "output_type": "execute_result"
    }
   ],
   "source": [
    "## show session info\n",
    "session_info.show()"
   ]
  }
 ],
 "metadata": {
  "kernelspec": {
   "display_name": "envPy311",
   "language": "python",
   "name": "envpy311"
  },
  "language_info": {
   "codemirror_mode": {
    "name": "ipython",
    "version": 3
   },
   "file_extension": ".py",
   "mimetype": "text/x-python",
   "name": "python",
   "nbconvert_exporter": "python",
   "pygments_lexer": "ipython3",
   "version": "3.11.5"
  }
 },
 "nbformat": 4,
 "nbformat_minor": 2
}
